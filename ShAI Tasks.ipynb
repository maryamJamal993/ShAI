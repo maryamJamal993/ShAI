{
 "cells": [
  {
   "cell_type": "markdown",
   "id": "e3690625",
   "metadata": {},
   "source": [
    "# SHAI_Bootcamp_Assignment"
   ]
  },
  {
   "cell_type": "code",
   "execution_count": 1,
   "id": "080e88d9",
   "metadata": {},
   "outputs": [
    {
     "data": {
      "text/html": [
       "<div>\n",
       "<style scoped>\n",
       "    .dataframe tbody tr th:only-of-type {\n",
       "        vertical-align: middle;\n",
       "    }\n",
       "\n",
       "    .dataframe tbody tr th {\n",
       "        vertical-align: top;\n",
       "    }\n",
       "\n",
       "    .dataframe thead th {\n",
       "        text-align: right;\n",
       "    }\n",
       "</style>\n",
       "<table border=\"1\" class=\"dataframe\">\n",
       "  <thead>\n",
       "    <tr style=\"text-align: right;\">\n",
       "      <th></th>\n",
       "      <th>Id</th>\n",
       "      <th>EmployeeName</th>\n",
       "      <th>JobTitle</th>\n",
       "      <th>BasePay</th>\n",
       "      <th>OvertimePay</th>\n",
       "      <th>OtherPay</th>\n",
       "      <th>Benefits</th>\n",
       "      <th>TotalPay</th>\n",
       "      <th>TotalPayBenefits</th>\n",
       "      <th>Year</th>\n",
       "      <th>Notes</th>\n",
       "      <th>Agency</th>\n",
       "      <th>Status</th>\n",
       "    </tr>\n",
       "  </thead>\n",
       "  <tbody>\n",
       "    <tr>\n",
       "      <th>0</th>\n",
       "      <td>1</td>\n",
       "      <td>NATHANIEL FORD</td>\n",
       "      <td>GENERAL MANAGER-METROPOLITAN TRANSIT AUTHORITY</td>\n",
       "      <td>167411.18</td>\n",
       "      <td>0.00</td>\n",
       "      <td>400184.25</td>\n",
       "      <td>NaN</td>\n",
       "      <td>567595.43</td>\n",
       "      <td>567595.43</td>\n",
       "      <td>2011</td>\n",
       "      <td>NaN</td>\n",
       "      <td>San Francisco</td>\n",
       "      <td>NaN</td>\n",
       "    </tr>\n",
       "    <tr>\n",
       "      <th>1</th>\n",
       "      <td>2</td>\n",
       "      <td>GARY JIMENEZ</td>\n",
       "      <td>CAPTAIN III (POLICE DEPARTMENT)</td>\n",
       "      <td>155966.02</td>\n",
       "      <td>245131.88</td>\n",
       "      <td>137811.38</td>\n",
       "      <td>NaN</td>\n",
       "      <td>538909.28</td>\n",
       "      <td>538909.28</td>\n",
       "      <td>2011</td>\n",
       "      <td>NaN</td>\n",
       "      <td>San Francisco</td>\n",
       "      <td>NaN</td>\n",
       "    </tr>\n",
       "    <tr>\n",
       "      <th>2</th>\n",
       "      <td>3</td>\n",
       "      <td>ALBERT PARDINI</td>\n",
       "      <td>CAPTAIN III (POLICE DEPARTMENT)</td>\n",
       "      <td>212739.13</td>\n",
       "      <td>106088.18</td>\n",
       "      <td>16452.60</td>\n",
       "      <td>NaN</td>\n",
       "      <td>335279.91</td>\n",
       "      <td>335279.91</td>\n",
       "      <td>2011</td>\n",
       "      <td>NaN</td>\n",
       "      <td>San Francisco</td>\n",
       "      <td>NaN</td>\n",
       "    </tr>\n",
       "    <tr>\n",
       "      <th>3</th>\n",
       "      <td>4</td>\n",
       "      <td>CHRISTOPHER CHONG</td>\n",
       "      <td>WIRE ROPE CABLE MAINTENANCE MECHANIC</td>\n",
       "      <td>77916.00</td>\n",
       "      <td>56120.71</td>\n",
       "      <td>198306.90</td>\n",
       "      <td>NaN</td>\n",
       "      <td>332343.61</td>\n",
       "      <td>332343.61</td>\n",
       "      <td>2011</td>\n",
       "      <td>NaN</td>\n",
       "      <td>San Francisco</td>\n",
       "      <td>NaN</td>\n",
       "    </tr>\n",
       "    <tr>\n",
       "      <th>4</th>\n",
       "      <td>5</td>\n",
       "      <td>PATRICK GARDNER</td>\n",
       "      <td>DEPUTY CHIEF OF DEPARTMENT,(FIRE DEPARTMENT)</td>\n",
       "      <td>134401.60</td>\n",
       "      <td>9737.00</td>\n",
       "      <td>182234.59</td>\n",
       "      <td>NaN</td>\n",
       "      <td>326373.19</td>\n",
       "      <td>326373.19</td>\n",
       "      <td>2011</td>\n",
       "      <td>NaN</td>\n",
       "      <td>San Francisco</td>\n",
       "      <td>NaN</td>\n",
       "    </tr>\n",
       "  </tbody>\n",
       "</table>\n",
       "</div>"
      ],
      "text/plain": [
       "   Id       EmployeeName                                        JobTitle  \\\n",
       "0   1     NATHANIEL FORD  GENERAL MANAGER-METROPOLITAN TRANSIT AUTHORITY   \n",
       "1   2       GARY JIMENEZ                 CAPTAIN III (POLICE DEPARTMENT)   \n",
       "2   3     ALBERT PARDINI                 CAPTAIN III (POLICE DEPARTMENT)   \n",
       "3   4  CHRISTOPHER CHONG            WIRE ROPE CABLE MAINTENANCE MECHANIC   \n",
       "4   5    PATRICK GARDNER    DEPUTY CHIEF OF DEPARTMENT,(FIRE DEPARTMENT)   \n",
       "\n",
       "     BasePay  OvertimePay   OtherPay  Benefits   TotalPay  TotalPayBenefits  \\\n",
       "0  167411.18         0.00  400184.25       NaN  567595.43         567595.43   \n",
       "1  155966.02    245131.88  137811.38       NaN  538909.28         538909.28   \n",
       "2  212739.13    106088.18   16452.60       NaN  335279.91         335279.91   \n",
       "3   77916.00     56120.71  198306.90       NaN  332343.61         332343.61   \n",
       "4  134401.60      9737.00  182234.59       NaN  326373.19         326373.19   \n",
       "\n",
       "   Year  Notes         Agency  Status  \n",
       "0  2011    NaN  San Francisco     NaN  \n",
       "1  2011    NaN  San Francisco     NaN  \n",
       "2  2011    NaN  San Francisco     NaN  \n",
       "3  2011    NaN  San Francisco     NaN  \n",
       "4  2011    NaN  San Francisco     NaN  "
      ]
     },
     "execution_count": 1,
     "metadata": {},
     "output_type": "execute_result"
    }
   ],
   "source": [
    "#loading The dataset\n",
    "\n",
    "import pandas as pd\n",
    "\n",
    "employee=pd.read_csv('.\\Salaries.csv')\n",
    "employee.head()"
   ]
  },
  {
   "cell_type": "markdown",
   "id": "048a27ad",
   "metadata": {},
   "source": [
    "## 1.Basic Data Exploration"
   ]
  },
  {
   "cell_type": "code",
   "execution_count": 2,
   "id": "576672e1",
   "metadata": {},
   "outputs": [
    {
     "name": "stdout",
     "output_type": "stream",
     "text": [
      "Number of rows:  148654\n",
      "Number of columns:  13\n",
      "<class 'pandas.core.frame.DataFrame'>\n",
      "RangeIndex: 148654 entries, 0 to 148653\n",
      "Data columns (total 13 columns):\n",
      " #   Column            Non-Null Count   Dtype  \n",
      "---  ------            --------------   -----  \n",
      " 0   Id                148654 non-null  int64  \n",
      " 1   EmployeeName      148654 non-null  object \n",
      " 2   JobTitle          148654 non-null  object \n",
      " 3   BasePay           148045 non-null  float64\n",
      " 4   OvertimePay       148650 non-null  float64\n",
      " 5   OtherPay          148650 non-null  float64\n",
      " 6   Benefits          112491 non-null  float64\n",
      " 7   TotalPay          148654 non-null  float64\n",
      " 8   TotalPayBenefits  148654 non-null  float64\n",
      " 9   Year              148654 non-null  int64  \n",
      " 10  Notes             0 non-null       float64\n",
      " 11  Agency            148654 non-null  object \n",
      " 12  Status            0 non-null       float64\n",
      "dtypes: float64(8), int64(2), object(3)\n",
      "memory usage: 14.7+ MB\n"
     ]
    }
   ],
   "source": [
    "# Number of rows and columns in the dataset:\n",
    "\n",
    "print('Number of rows: ',employee.shape[0])\n",
    "print('Number of columns: ',employee.shape[1])\n",
    "\n",
    "#Information about each column name, Number of missing values:\n",
    "\n",
    "employee.info()"
   ]
  },
  {
   "cell_type": "markdown",
   "id": "84ecc4df",
   "metadata": {},
   "source": [
    "Note that columns Basepay, OvertimePay, OtherPay, Benifits, Notes, Status has missing values"
   ]
  },
  {
   "cell_type": "markdown",
   "id": "5d7c6a3e",
   "metadata": {},
   "source": [
    "## 2.Descriptive Statistics"
   ]
  },
  {
   "cell_type": "code",
   "execution_count": 3,
   "id": "27ac256b",
   "metadata": {},
   "outputs": [
    {
     "name": "stdout",
     "output_type": "stream",
     "text": [
      "descriptive statistics for TotalPay column: \n"
     ]
    },
    {
     "data": {
      "text/plain": [
       "count    148654.000000\n",
       "mean      74768.321972\n",
       "std       50517.005274\n",
       "min        -618.130000\n",
       "25%       36168.995000\n",
       "50%       71426.610000\n",
       "75%      105839.135000\n",
       "max      567595.430000\n",
       "Name: TotalPay, dtype: float64"
      ]
     },
     "execution_count": 3,
     "metadata": {},
     "output_type": "execute_result"
    }
   ],
   "source": [
    "desc_stat=employee['TotalPay'].describe()\n",
    "print('descriptive statistics for TotalPay column: ')\n",
    "desc_stat "
   ]
  },
  {
   "cell_type": "code",
   "execution_count": 4,
   "id": "dac07b76",
   "metadata": {},
   "outputs": [
    {
     "name": "stdout",
     "output_type": "stream",
     "text": [
      "Mean of TotalPay:  74768.32197169267\n",
      "Median of TotalPay:  71426.60999999999\n",
      "Standard Deviation of TotalPay:  50517.005273949944\n",
      "Minimum Value of TotalPay:  -618.13\n",
      "Maximum value of TotalPay:  567595.43\n",
      "Range of TotalPay:  568213.56\n",
      "Mode of TotalPay: \n"
     ]
    },
    {
     "data": {
      "text/plain": [
       "0    0.0\n",
       "Name: TotalPay, dtype: float64"
      ]
     },
     "execution_count": 4,
     "metadata": {},
     "output_type": "execute_result"
    }
   ],
   "source": [
    "print('Mean of TotalPay: ',desc_stat['mean'])\n",
    "print('Median of TotalPay: ',desc_stat['50%'])\n",
    "print('Standard Deviation of TotalPay: ',desc_stat['std'] )\n",
    "print('Minimum Value of TotalPay: ',desc_stat['min'] )\n",
    "print('Maximum value of TotalPay: ',desc_stat['max'] )\n",
    "print('Range of TotalPay: ',desc_stat['max']-desc_stat['min'] )\n",
    "mode=employee['TotalPay'].mode()\n",
    "print('Mode of TotalPay: ')\n",
    "mode"
   ]
  },
  {
   "cell_type": "markdown",
   "id": "6c5840ab",
   "metadata": {},
   "source": [
    "## 3.Data Cleaning"
   ]
  },
  {
   "cell_type": "code",
   "execution_count": 5,
   "id": "1adf992b",
   "metadata": {},
   "outputs": [],
   "source": [
    "\n",
    "#Dropping rows with missing values in one of the columns OvertimePay and OtherPay, as each of them has only 4 missing values:\n",
    "employee_after=employee.dropna(subset=['OvertimePay','OtherPay'])"
   ]
  },
  {
   "cell_type": "code",
   "execution_count": 6,
   "id": "75e387fd",
   "metadata": {},
   "outputs": [
    {
     "data": {
      "image/png": "[encoded data removed]",
      "text/plain": [
       "<Figure size 640x480 with 1 Axes>"
      ]
     },
     "metadata": {},
     "output_type": "display_data"
    }
   ],
   "source": [
    "#Checking the distribution of the values of the BasePay column, as there is a 604 missing values, we will impute them\n",
    "#with a specific value, to decide if the value will be the mean, mode, or the median, we will check the distribution using histogram\n",
    "\n",
    "import matplotlib.pyplot as plt\n",
    "\n",
    "plt.hist(employee_after['BasePay'], bins=30, density=True, alpha=0.7, color='blue')\n",
    "plt.title('Histogram of BasePay')\n",
    "plt.xlabel('BasePay')\n",
    "plt.ylabel('Frequency')\n",
    "plt.show()"
   ]
  },
  {
   "cell_type": "markdown",
   "id": "2e1c3928",
   "metadata": {},
   "source": [
    "Note that the distribution is not normal but positively skewed, so we will not use the median or the mean, instead, we will use the mode (most accured value)."
   ]
  },
  {
   "cell_type": "code",
   "execution_count": 7,
   "id": "42a15b6b",
   "metadata": {},
   "outputs": [
    {
     "name": "stderr",
     "output_type": "stream",
     "text": [
      "C:\\Users\\hp\\AppData\\Local\\Temp\\ipykernel_1568\\1105299518.py:3: SettingWithCopyWarning: \n",
      "A value is trying to be set on a copy of a slice from a DataFrame\n",
      "\n",
      "See the caveats in the documentation: https://pandas.pydata.org/pandas-docs/stable/user_guide/indexing.html#returning-a-view-versus-a-copy\n",
      "  employee_after['BasePay'].fillna(mode_value,inplace=True)\n"
     ]
    }
   ],
   "source": [
    "#imputation with the mode\n",
    "mode_value = employee_after['BasePay'].mode().iloc[0]\n",
    "employee_after['BasePay'].fillna(mode_value,inplace=True)"
   ]
  },
  {
   "cell_type": "code",
   "execution_count": 8,
   "id": "991c099e",
   "metadata": {},
   "outputs": [
    {
     "name": "stdout",
     "output_type": "stream",
     "text": [
      "<class 'pandas.core.frame.DataFrame'>\n",
      "Index: 148650 entries, 0 to 148653\n",
      "Data columns (total 13 columns):\n",
      " #   Column            Non-Null Count   Dtype  \n",
      "---  ------            --------------   -----  \n",
      " 0   Id                148650 non-null  int64  \n",
      " 1   EmployeeName      148650 non-null  object \n",
      " 2   JobTitle          148650 non-null  object \n",
      " 3   BasePay           148650 non-null  float64\n",
      " 4   OvertimePay       148650 non-null  float64\n",
      " 5   OtherPay          148650 non-null  float64\n",
      " 6   Benefits          112491 non-null  float64\n",
      " 7   TotalPay          148650 non-null  float64\n",
      " 8   TotalPayBenefits  148650 non-null  float64\n",
      " 9   Year              148650 non-null  int64  \n",
      " 10  Notes             0 non-null       float64\n",
      " 11  Agency            148650 non-null  object \n",
      " 12  Status            0 non-null       float64\n",
      "dtypes: float64(8), int64(2), object(3)\n",
      "memory usage: 15.9+ MB\n"
     ]
    }
   ],
   "source": [
    "employee_after.info()"
   ]
  },
  {
   "cell_type": "code",
   "execution_count": 9,
   "id": "d81206f7",
   "metadata": {},
   "outputs": [
    {
     "data": {
      "image/png": "[encoded data removed]",
      "text/plain": [
       "<Figure size 640x480 with 1 Axes>"
      ]
     },
     "metadata": {},
     "output_type": "display_data"
    }
   ],
   "source": [
    "import matplotlib.pyplot as plt\n",
    "\n",
    "plt.hist(employee_after['Benefits'], bins=30, density=True, alpha=0.7, color='blue')\n",
    "plt.title('Histogram of Benefits')\n",
    "plt.xlabel('Benefets')\n",
    "plt.ylabel('Frequency')\n",
    "plt.show()"
   ]
  },
  {
   "cell_type": "markdown",
   "id": "bc3bb83c",
   "metadata": {},
   "source": [
    "Note that the histogram is normally distributed, so we will use Imputation with median to handle missing values rather than the mean because it's less sensitive to extreme outliers (zero value in our case)."
   ]
  },
  {
   "cell_type": "code",
   "execution_count": 10,
   "id": "5e294eff",
   "metadata": {},
   "outputs": [
    {
     "name": "stderr",
     "output_type": "stream",
     "text": [
      "C:\\Users\\hp\\AppData\\Local\\Temp\\ipykernel_1568\\1573189763.py:4: SettingWithCopyWarning: \n",
      "A value is trying to be set on a copy of a slice from a DataFrame\n",
      "\n",
      "See the caveats in the documentation: https://pandas.pydata.org/pandas-docs/stable/user_guide/indexing.html#returning-a-view-versus-a-copy\n",
      "  employee_after['Benefits'].fillna(median,inplace=True)\n"
     ]
    }
   ],
   "source": [
    "#Imputation with median\n",
    "\n",
    "median=employee_after['Benefits'].median()\n",
    "employee_after['Benefits'].fillna(median,inplace=True)"
   ]
  },
  {
   "cell_type": "code",
   "execution_count": 11,
   "id": "fa9b828d",
   "metadata": {},
   "outputs": [],
   "source": [
    "#Both the Notes and the Status columns has no values, so we will delete them\n",
    "\n",
    "employee_cleaned=employee_after.drop(columns=['Notes','Status'])"
   ]
  },
  {
   "cell_type": "code",
   "execution_count": 12,
   "id": "ad3f2bc8",
   "metadata": {},
   "outputs": [
    {
     "name": "stdout",
     "output_type": "stream",
     "text": [
      "<class 'pandas.core.frame.DataFrame'>\n",
      "Index: 148650 entries, 0 to 148653\n",
      "Data columns (total 11 columns):\n",
      " #   Column            Non-Null Count   Dtype  \n",
      "---  ------            --------------   -----  \n",
      " 0   Id                148650 non-null  int64  \n",
      " 1   EmployeeName      148650 non-null  object \n",
      " 2   JobTitle          148650 non-null  object \n",
      " 3   BasePay           148650 non-null  float64\n",
      " 4   OvertimePay       148650 non-null  float64\n",
      " 5   OtherPay          148650 non-null  float64\n",
      " 6   Benefits          148650 non-null  float64\n",
      " 7   TotalPay          148650 non-null  float64\n",
      " 8   TotalPayBenefits  148650 non-null  float64\n",
      " 9   Year              148650 non-null  int64  \n",
      " 10  Agency            148650 non-null  object \n",
      "dtypes: float64(6), int64(2), object(3)\n",
      "memory usage: 13.6+ MB\n"
     ]
    }
   ],
   "source": [
    "employee_cleaned.info()"
   ]
  },
  {
   "cell_type": "markdown",
   "id": "6ddf4909",
   "metadata": {},
   "source": [
    "## 4.Basic Data Visualization"
   ]
  },
  {
   "cell_type": "code",
   "execution_count": 14,
   "id": "ca9b6aa1",
   "metadata": {},
   "outputs": [
    {
     "data": {
      "image/png": "[encoded data removed]",
      "text/plain": [
       "<Figure size 640x480 with 1 Axes>"
      ]
     },
     "metadata": {},
     "output_type": "display_data"
    }
   ],
   "source": [
    "#creating histogram for the salary (TotalPay) attribute:\n",
    "\n",
    "plt.hist(employee_cleaned['TotalPay'],bins=30,density=True,alpha=0.7,color='blue')\n",
    "plt.title('Distribution of Salaries')\n",
    "plt.xlabel('Salary')\n",
    "plt.ylabel('Frequency')\n",
    "plt.show()"
   ]
  },
  {
   "cell_type": "code",
   "execution_count": 44,
   "id": "d02b7d57",
   "metadata": {},
   "outputs": [
    {
     "data": {
      "text/plain": [
       "department\n",
       "Civil/Criminal       1126\n",
       "POLICE DEPARTMENT     667\n",
       "CIVIL/CRIMINAL        377\n",
       "MFCC                   90\n",
       "Seasonal               86\n",
       "SFERS                  64\n",
       "FIRE DEPARTMENT        52\n",
       "Police Department      45\n",
       "SEASONAL               30\n",
       "Fire Dept              25\n",
       "Civil & Criminal       14\n",
       "Cvl&Crmnl               9\n",
       "CIVIL & CRIMINAL        8\n",
       "Fire Department         1\n",
       "Name: count, dtype: int64"
      ]
     },
     "execution_count": 44,
     "metadata": {},
     "output_type": "execute_result"
    }
   ],
   "source": [
    "#using pie charts to represent the proportion of employees in different departments.\n",
    "#since the departments names are embeded within the JobTitle column, we need to extract it first to a different column:\n",
    "\n",
    "import re\n",
    "\n",
    "employee_cleaned['department']=employee_cleaned['JobTitle'].str.extract(r'\\((.*?)\\)', flags=re.IGNORECASE)\n",
    "count_dept=employee_cleaned['department'].value_counts()\n",
    "\n",
    "count_dept"
   ]
  },
  {
   "cell_type": "code",
   "execution_count": null,
   "id": "33aacf25",
   "metadata": {},
   "outputs": [],
   "source": [
    "department_mapping = {\n",
    "    'Civil/Criminal': 'Civil/Criminal',\n",
    "    'POLICE DEPARTMENT': 'Police Department',\n",
    "    'CIVIL/CRIMINAL': 'Civil/Criminal',\n",
    "    'MFCC': 'MFCC',\n",
    "    'Seasonal': 'Seasonal',\n",
    "    'SFERS': 'SFERS',\n",
    "    'FIRE DEPARTMENT': 'Fire Department',\n",
    "    'Police Department': 'Police Department',\n",
    "    'SEASONAL': 'Seasonal',\n",
    "    'Fire Dept': 'Fire Department',\n",
    "    'Civil & Criminal': 'Civil/Criminal',\n",
    "    'Cvl&Crmnl': 'Civil/Criminal',\n",
    "    'CIVIL & CRIMINAL': 'Civil/Criminal',\n",
    "    'Fire Department': 'Fire Department'\n",
    "}\n",
    "\n",
    "# Standardize department names using the mapping\n",
    "employee_cleaned['StandardizedDepartment'] = employee_cleaned['Department'].map(department_mapping)\n",
    "dept_counts=employee_cleaned['StandardizedDepartment'].value_counts()"
   ]
  },
  {
   "cell_type": "code",
   "execution_count": 52,
   "id": "bdea15ad",
   "metadata": {},
   "outputs": [
    {
     "data": {
      "image/png": "[encoded data removed]",
      "text/plain": [
       "<Figure size 800x800 with 1 Axes>"
      ]
     },
     "metadata": {},
     "output_type": "display_data"
    }
   ],
   "source": [
    "#pie charts to represent the proportion of employees in different departments\n",
    "\n",
    "plt.figure(figsize=(8,8))\n",
    "plt.pie(dept_counts, labels=dept_counts.index, autopct='%1.1f%%', startangle=90, pctdistance=0.85)\n",
    "ax.set_title('Proportion of Employees in Different Departments')\n",
    "plt.show()"
   ]
  },
  {
   "cell_type": "code",
   "execution_count": 49,
   "id": "68893dfa",
   "metadata": {},
   "outputs": [
    {
     "data": {
      "text/html": [
       "<div>\n",
       "<style scoped>\n",
       "    .dataframe tbody tr th:only-of-type {\n",
       "        vertical-align: middle;\n",
       "    }\n",
       "\n",
       "    .dataframe tbody tr th {\n",
       "        vertical-align: top;\n",
       "    }\n",
       "\n",
       "    .dataframe thead th {\n",
       "        text-align: right;\n",
       "    }\n",
       "</style>\n",
       "<table border=\"1\" class=\"dataframe\">\n",
       "  <thead>\n",
       "    <tr style=\"text-align: right;\">\n",
       "      <th></th>\n",
       "      <th>Id</th>\n",
       "      <th>EmployeeName</th>\n",
       "      <th>JobTitle</th>\n",
       "      <th>BasePay</th>\n",
       "      <th>OvertimePay</th>\n",
       "      <th>OtherPay</th>\n",
       "      <th>Benefits</th>\n",
       "      <th>TotalPay</th>\n",
       "      <th>TotalPayBenefits</th>\n",
       "      <th>Year</th>\n",
       "      <th>Agency</th>\n",
       "      <th>StandardizedDepartment</th>\n",
       "    </tr>\n",
       "  </thead>\n",
       "  <tbody>\n",
       "    <tr>\n",
       "      <th>0</th>\n",
       "      <td>1</td>\n",
       "      <td>NATHANIEL FORD</td>\n",
       "      <td>GENERAL MANAGER-METROPOLITAN TRANSIT AUTHORITY</td>\n",
       "      <td>167411.18</td>\n",
       "      <td>0.00</td>\n",
       "      <td>400184.25</td>\n",
       "      <td>28628.62</td>\n",
       "      <td>567595.43</td>\n",
       "      <td>567595.43</td>\n",
       "      <td>2011</td>\n",
       "      <td>San Francisco</td>\n",
       "      <td>NaN</td>\n",
       "    </tr>\n",
       "    <tr>\n",
       "      <th>1</th>\n",
       "      <td>2</td>\n",
       "      <td>GARY JIMENEZ</td>\n",
       "      <td>CAPTAIN III (POLICE DEPARTMENT)</td>\n",
       "      <td>155966.02</td>\n",
       "      <td>245131.88</td>\n",
       "      <td>137811.38</td>\n",
       "      <td>28628.62</td>\n",
       "      <td>538909.28</td>\n",
       "      <td>538909.28</td>\n",
       "      <td>2011</td>\n",
       "      <td>San Francisco</td>\n",
       "      <td>Police Department</td>\n",
       "    </tr>\n",
       "    <tr>\n",
       "      <th>2</th>\n",
       "      <td>3</td>\n",
       "      <td>ALBERT PARDINI</td>\n",
       "      <td>CAPTAIN III (POLICE DEPARTMENT)</td>\n",
       "      <td>212739.13</td>\n",
       "      <td>106088.18</td>\n",
       "      <td>16452.60</td>\n",
       "      <td>28628.62</td>\n",
       "      <td>335279.91</td>\n",
       "      <td>335279.91</td>\n",
       "      <td>2011</td>\n",
       "      <td>San Francisco</td>\n",
       "      <td>Police Department</td>\n",
       "    </tr>\n",
       "    <tr>\n",
       "      <th>3</th>\n",
       "      <td>4</td>\n",
       "      <td>CHRISTOPHER CHONG</td>\n",
       "      <td>WIRE ROPE CABLE MAINTENANCE MECHANIC</td>\n",
       "      <td>77916.00</td>\n",
       "      <td>56120.71</td>\n",
       "      <td>198306.90</td>\n",
       "      <td>28628.62</td>\n",
       "      <td>332343.61</td>\n",
       "      <td>332343.61</td>\n",
       "      <td>2011</td>\n",
       "      <td>San Francisco</td>\n",
       "      <td>NaN</td>\n",
       "    </tr>\n",
       "    <tr>\n",
       "      <th>4</th>\n",
       "      <td>5</td>\n",
       "      <td>PATRICK GARDNER</td>\n",
       "      <td>DEPUTY CHIEF OF DEPARTMENT,(FIRE DEPARTMENT)</td>\n",
       "      <td>134401.60</td>\n",
       "      <td>9737.00</td>\n",
       "      <td>182234.59</td>\n",
       "      <td>28628.62</td>\n",
       "      <td>326373.19</td>\n",
       "      <td>326373.19</td>\n",
       "      <td>2011</td>\n",
       "      <td>San Francisco</td>\n",
       "      <td>Fire Department</td>\n",
       "    </tr>\n",
       "    <tr>\n",
       "      <th>...</th>\n",
       "      <td>...</td>\n",
       "      <td>...</td>\n",
       "      <td>...</td>\n",
       "      <td>...</td>\n",
       "      <td>...</td>\n",
       "      <td>...</td>\n",
       "      <td>...</td>\n",
       "      <td>...</td>\n",
       "      <td>...</td>\n",
       "      <td>...</td>\n",
       "      <td>...</td>\n",
       "      <td>...</td>\n",
       "    </tr>\n",
       "    <tr>\n",
       "      <th>148645</th>\n",
       "      <td>148646</td>\n",
       "      <td>Carolyn A Wilson</td>\n",
       "      <td>Human Services Technician</td>\n",
       "      <td>0.00</td>\n",
       "      <td>0.00</td>\n",
       "      <td>0.00</td>\n",
       "      <td>0.00</td>\n",
       "      <td>0.00</td>\n",
       "      <td>0.00</td>\n",
       "      <td>2014</td>\n",
       "      <td>San Francisco</td>\n",
       "      <td>NaN</td>\n",
       "    </tr>\n",
       "    <tr>\n",
       "      <th>148647</th>\n",
       "      <td>148648</td>\n",
       "      <td>Joann Anderson</td>\n",
       "      <td>Communications Dispatcher 2</td>\n",
       "      <td>0.00</td>\n",
       "      <td>0.00</td>\n",
       "      <td>0.00</td>\n",
       "      <td>0.00</td>\n",
       "      <td>0.00</td>\n",
       "      <td>0.00</td>\n",
       "      <td>2014</td>\n",
       "      <td>San Francisco</td>\n",
       "      <td>NaN</td>\n",
       "    </tr>\n",
       "    <tr>\n",
       "      <th>148648</th>\n",
       "      <td>148649</td>\n",
       "      <td>Leon Walker</td>\n",
       "      <td>Custodian</td>\n",
       "      <td>0.00</td>\n",
       "      <td>0.00</td>\n",
       "      <td>0.00</td>\n",
       "      <td>0.00</td>\n",
       "      <td>0.00</td>\n",
       "      <td>0.00</td>\n",
       "      <td>2014</td>\n",
       "      <td>San Francisco</td>\n",
       "      <td>NaN</td>\n",
       "    </tr>\n",
       "    <tr>\n",
       "      <th>148649</th>\n",
       "      <td>148650</td>\n",
       "      <td>Roy I Tillery</td>\n",
       "      <td>Custodian</td>\n",
       "      <td>0.00</td>\n",
       "      <td>0.00</td>\n",
       "      <td>0.00</td>\n",
       "      <td>0.00</td>\n",
       "      <td>0.00</td>\n",
       "      <td>0.00</td>\n",
       "      <td>2014</td>\n",
       "      <td>San Francisco</td>\n",
       "      <td>NaN</td>\n",
       "    </tr>\n",
       "    <tr>\n",
       "      <th>148653</th>\n",
       "      <td>148654</td>\n",
       "      <td>Joe Lopez</td>\n",
       "      <td>Counselor, Log Cabin Ranch</td>\n",
       "      <td>0.00</td>\n",
       "      <td>0.00</td>\n",
       "      <td>-618.13</td>\n",
       "      <td>0.00</td>\n",
       "      <td>-618.13</td>\n",
       "      <td>-618.13</td>\n",
       "      <td>2014</td>\n",
       "      <td>San Francisco</td>\n",
       "      <td>NaN</td>\n",
       "    </tr>\n",
       "  </tbody>\n",
       "</table>\n",
       "<p>148650 rows × 12 columns</p>\n",
       "</div>"
      ],
      "text/plain": [
       "            Id       EmployeeName  \\\n",
       "0            1     NATHANIEL FORD   \n",
       "1            2       GARY JIMENEZ   \n",
       "2            3     ALBERT PARDINI   \n",
       "3            4  CHRISTOPHER CHONG   \n",
       "4            5    PATRICK GARDNER   \n",
       "...        ...                ...   \n",
       "148645  148646   Carolyn A Wilson   \n",
       "148647  148648     Joann Anderson   \n",
       "148648  148649        Leon Walker   \n",
       "148649  148650      Roy I Tillery   \n",
       "148653  148654          Joe Lopez   \n",
       "\n",
       "                                              JobTitle    BasePay  \\\n",
       "0       GENERAL MANAGER-METROPOLITAN TRANSIT AUTHORITY  167411.18   \n",
       "1                      CAPTAIN III (POLICE DEPARTMENT)  155966.02   \n",
       "2                      CAPTAIN III (POLICE DEPARTMENT)  212739.13   \n",
       "3                 WIRE ROPE CABLE MAINTENANCE MECHANIC   77916.00   \n",
       "4         DEPUTY CHIEF OF DEPARTMENT,(FIRE DEPARTMENT)  134401.60   \n",
       "...                                                ...        ...   \n",
       "148645                       Human Services Technician       0.00   \n",
       "148647                     Communications Dispatcher 2       0.00   \n",
       "148648                                       Custodian       0.00   \n",
       "148649                                       Custodian       0.00   \n",
       "148653                      Counselor, Log Cabin Ranch       0.00   \n",
       "\n",
       "        OvertimePay   OtherPay  Benefits   TotalPay  TotalPayBenefits  Year  \\\n",
       "0              0.00  400184.25  28628.62  567595.43         567595.43  2011   \n",
       "1         245131.88  137811.38  28628.62  538909.28         538909.28  2011   \n",
       "2         106088.18   16452.60  28628.62  335279.91         335279.91  2011   \n",
       "3          56120.71  198306.90  28628.62  332343.61         332343.61  2011   \n",
       "4           9737.00  182234.59  28628.62  326373.19         326373.19  2011   \n",
       "...             ...        ...       ...        ...               ...   ...   \n",
       "148645         0.00       0.00      0.00       0.00              0.00  2014   \n",
       "148647         0.00       0.00      0.00       0.00              0.00  2014   \n",
       "148648         0.00       0.00      0.00       0.00              0.00  2014   \n",
       "148649         0.00       0.00      0.00       0.00              0.00  2014   \n",
       "148653         0.00    -618.13      0.00    -618.13           -618.13  2014   \n",
       "\n",
       "               Agency StandardizedDepartment  \n",
       "0       San Francisco                    NaN  \n",
       "1       San Francisco      Police Department  \n",
       "2       San Francisco      Police Department  \n",
       "3       San Francisco                    NaN  \n",
       "4       San Francisco        Fire Department  \n",
       "...               ...                    ...  \n",
       "148645  San Francisco                    NaN  \n",
       "148647  San Francisco                    NaN  \n",
       "148648  San Francisco                    NaN  \n",
       "148649  San Francisco                    NaN  \n",
       "148653  San Francisco                    NaN  \n",
       "\n",
       "[148650 rows x 12 columns]"
      ]
     },
     "execution_count": 49,
     "metadata": {},
     "output_type": "execute_result"
    }
   ],
   "source": [
    "employee_cleaned.drop(columns=['department'])"
   ]
  },
  {
   "cell_type": "markdown",
   "id": "89e70069",
   "metadata": {},
   "source": [
    "# 5.Grouped Analysis"
   ]
  },
  {
   "cell_type": "code",
   "execution_count": 62,
   "id": "7b381942",
   "metadata": {},
   "outputs": [
    {
     "data": {
      "text/html": [
       "<div>\n",
       "<style scoped>\n",
       "    .dataframe tbody tr th:only-of-type {\n",
       "        vertical-align: middle;\n",
       "    }\n",
       "\n",
       "    .dataframe tbody tr th {\n",
       "        vertical-align: top;\n",
       "    }\n",
       "\n",
       "    .dataframe thead th {\n",
       "        text-align: right;\n",
       "    }\n",
       "</style>\n",
       "<table border=\"1\" class=\"dataframe\">\n",
       "  <thead>\n",
       "    <tr style=\"text-align: right;\">\n",
       "      <th></th>\n",
       "      <th>mean</th>\n",
       "      <th>median</th>\n",
       "      <th>std</th>\n",
       "      <th>min</th>\n",
       "      <th>max</th>\n",
       "      <th>count</th>\n",
       "    </tr>\n",
       "    <tr>\n",
       "      <th>Year</th>\n",
       "      <th></th>\n",
       "      <th></th>\n",
       "      <th></th>\n",
       "      <th></th>\n",
       "      <th></th>\n",
       "      <th></th>\n",
       "    </tr>\n",
       "  </thead>\n",
       "  <tbody>\n",
       "    <tr>\n",
       "      <th>2011</th>\n",
       "      <td>71744.103871</td>\n",
       "      <td>68213.240</td>\n",
       "      <td>47498.706594</td>\n",
       "      <td>0.00</td>\n",
       "      <td>567595.43</td>\n",
       "      <td>36159</td>\n",
       "    </tr>\n",
       "    <tr>\n",
       "      <th>2012</th>\n",
       "      <td>74113.262265</td>\n",
       "      <td>70714.680</td>\n",
       "      <td>49523.904319</td>\n",
       "      <td>0.00</td>\n",
       "      <td>362844.66</td>\n",
       "      <td>36766</td>\n",
       "    </tr>\n",
       "    <tr>\n",
       "      <th>2013</th>\n",
       "      <td>77611.443142</td>\n",
       "      <td>74500.015</td>\n",
       "      <td>52854.774783</td>\n",
       "      <td>0.00</td>\n",
       "      <td>347102.32</td>\n",
       "      <td>37606</td>\n",
       "    </tr>\n",
       "    <tr>\n",
       "      <th>2014</th>\n",
       "      <td>75471.836912</td>\n",
       "      <td>72366.280</td>\n",
       "      <td>51694.645115</td>\n",
       "      <td>-618.13</td>\n",
       "      <td>471952.64</td>\n",
       "      <td>38119</td>\n",
       "    </tr>\n",
       "  </tbody>\n",
       "</table>\n",
       "</div>"
      ],
      "text/plain": [
       "              mean     median           std     min        max  count\n",
       "Year                                                                 \n",
       "2011  71744.103871  68213.240  47498.706594    0.00  567595.43  36159\n",
       "2012  74113.262265  70714.680  49523.904319    0.00  362844.66  36766\n",
       "2013  77611.443142  74500.015  52854.774783    0.00  347102.32  37606\n",
       "2014  75471.836912  72366.280  51694.645115 -618.13  471952.64  38119"
      ]
     },
     "execution_count": 62,
     "metadata": {},
     "output_type": "execute_result"
    }
   ],
   "source": [
    "#Grouping data by the year attribute to understand how average salary varies over different years\n",
    "\n",
    "grouped_data = employee_cleaned.groupby('Year')['TotalPay'].agg(['mean','median', 'std', 'min', 'max', 'count'])\n",
    "grouped_data"
   ]
  },
  {
   "cell_type": "code",
   "execution_count": 63,
   "id": "1f839739",
   "metadata": {},
   "outputs": [
    {
     "data": {
      "text/plain": [
       "Text(0.5, 1.0, 'Trend of Mean Salary Over Years')"
      ]
     },
     "execution_count": 63,
     "metadata": {},
     "output_type": "execute_result"
    },
    {
     "data": {
      "image/png": "[encoded data removed]",
      "text/plain": [
       "<Figure size 640x480 with 1 Axes>"
      ]
     },
     "metadata": {},
     "output_type": "display_data"
    }
   ],
   "source": [
    "grouped_data['mean'].plot(kind='line', marker='o', color='blue', linestyle='-')\n",
    "\n",
    "# Add labels and title\n",
    "plt.xlabel('Year')\n",
    "plt.ylabel('Mean Salary')\n",
    "plt.title('Trend of Mean Salary Over Years')"
   ]
  },
  {
   "cell_type": "markdown",
   "id": "c1ccaad6",
   "metadata": {},
   "source": [
    "# 6.Simple Correlation Analysis"
   ]
  },
  {
   "cell_type": "code",
   "execution_count": 66,
   "id": "65e1c630",
   "metadata": {},
   "outputs": [
    {
     "name": "stdout",
     "output_type": "stream",
     "text": [
      "Correlation between TotalPay and BasePay: 0.9546898576409023\n"
     ]
    },
    {
     "data": {
      "image/png": "[encoded data removed]",
      "text/plain": [
       "<Figure size 640x480 with 1 Axes>"
      ]
     },
     "metadata": {},
     "output_type": "display_data"
    }
   ],
   "source": [
    "#we will get the correlation of Salary with the BasePay, then visualise the realation with a scatter plot\n",
    "\n",
    "correlation = employee_cleaned['TotalPay'].corr(employee_cleaned['BasePay'])\n",
    "\n",
    "print(f'Correlation between TotalPay and BasePay: {correlation}')\n",
    "\n",
    "plt.scatter(employee_cleaned['BasePay'], employee_cleaned['TotalPay'])\n",
    "plt.xlabel('BasePay')\n",
    "plt.ylabel('TotalPay')\n",
    "plt.title('Scatter Plot of TotalPay vs. BasePay')\n",
    "plt.show()"
   ]
  },
  {
   "cell_type": "markdown",
   "id": "3be0b6f6",
   "metadata": {},
   "source": [
    "Note: The Correlation of Salary and base pay suggests that: \n",
    "1.there is a very strong positive linear relationship between an employee's base salary ('BasePay') and their total compensation ('TotalPay').\n",
    "2.Employees with higher base salaries tend to have higher total compensation, and the relationship is nearly perfectly linear"
   ]
  },
  {
   "cell_type": "code",
   "execution_count": null,
   "id": "f50263ed",
   "metadata": {},
   "outputs": [],
   "source": []
  }
 ],
 "metadata": {
  "kernelspec": {
   "display_name": "Python 3 (ipykernel)",
   "language": "python",
   "name": "python3"
  },
  "language_info": {
   "codemirror_mode": {
    "name": "ipython",
    "version": 3
   },
   "file_extension": ".py",
   "mimetype": "text/x-python",
   "name": "python",
   "nbconvert_exporter": "python",
   "pygments_lexer": "ipython3",
   "version": "3.11.5"
  }
 },
 "nbformat": 4,
 "nbformat_minor": 5
}
